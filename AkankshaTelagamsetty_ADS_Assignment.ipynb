{
  "nbformat": 4,
  "nbformat_minor": 0,
  "metadata": {
    "colab": {
      "name": "AkankshaTelagamsetty_ADS Assignment.ipynb",
      "provenance": [],
      "collapsed_sections": []
    },
    "kernelspec": {
      "name": "python3",
      "display_name": "Python 3"
    },
    "language_info": {
      "name": "python"
    }
  },
  "cells": [
    {
      "cell_type": "markdown",
      "source": [
        "# ADS Assignment \n",
        "# Akanksha Telagam Setty"
      ],
      "metadata": {
        "id": "J50aqxb8YAsK"
      }
    },
    {
      "cell_type": "code",
      "execution_count": 43,
      "metadata": {
        "id": "N1Ur9dcwR1VJ"
      },
      "outputs": [],
      "source": [
        "import pandas as pd\n",
        "import numpy as np\n",
        "import matplotlib.pyplot as plt\n",
        "import random"
      ]
    },
    {
      "cell_type": "markdown",
      "source": [
        "# Dataset "
      ],
      "metadata": {
        "id": "mNl-IslqF3ie"
      }
    },
    {
      "cell_type": "code",
      "source": [
        "df= pd.read_csv(\"diabetes2.csv\")\n",
        "df.head"
      ],
      "metadata": {
        "colab": {
          "base_uri": "https://localhost:8080/"
        },
        "id": "gBoTCc0Yj7Xf",
        "outputId": "a2bf8cea-11d2-454f-d7ea-ffcf562cea97"
      },
      "execution_count": 44,
      "outputs": [
        {
          "output_type": "execute_result",
          "data": {
            "text/plain": [
              "<bound method NDFrame.head of      Pregnancies  Glucose  BloodPressure  SkinThickness  Insulin   BMI  \\\n",
              "0              6      148             72             35        0  33.6   \n",
              "1              1       85             66             29        0  26.6   \n",
              "2              8      183             64              0        0  23.3   \n",
              "3              1       89             66             23       94  28.1   \n",
              "4              0      137             40             35      168  43.1   \n",
              "..           ...      ...            ...            ...      ...   ...   \n",
              "763           10      101             76             48      180  32.9   \n",
              "764            2      122             70             27        0  36.8   \n",
              "765            5      121             72             23      112  26.2   \n",
              "766            1      126             60              0        0  30.1   \n",
              "767            1       93             70             31        0  30.4   \n",
              "\n",
              "     DiabetesPedigreeFunction  Age  Outcome  \n",
              "0                       0.627   50        1  \n",
              "1                       0.351   31        0  \n",
              "2                       0.672   32        1  \n",
              "3                       0.167   21        0  \n",
              "4                       2.288   33        1  \n",
              "..                        ...  ...      ...  \n",
              "763                     0.171   63        0  \n",
              "764                     0.340   27        0  \n",
              "765                     0.245   30        0  \n",
              "766                     0.349   47        1  \n",
              "767                     0.315   23        0  \n",
              "\n",
              "[768 rows x 9 columns]>"
            ]
          },
          "metadata": {},
          "execution_count": 44
        }
      ]
    },
    {
      "cell_type": "code",
      "source": [
        "#Features\n",
        "x = df[['Glucose', 'BloodPressure', 'Insulin', 'BMI', 'Age', 'DiabetesPedigreeFunction']]\n",
        "y = df['Outcome']"
      ],
      "metadata": {
        "id": "NfBMnW1VeZOV"
      },
      "execution_count": 45,
      "outputs": []
    },
    {
      "cell_type": "markdown",
      "source": [
        "## Train-test split"
      ],
      "metadata": {
        "id": "h6cwhrRSAwlY"
      }
    },
    {
      "cell_type": "code",
      "source": [
        "#Train test split\n",
        "x_train = x.iloc[:700,:]\n",
        "x_test = x.iloc[700:,:]\n",
        "\n",
        "\n",
        "'''y_list = df['Outcome'].tolist()\n",
        "y_train = y_list[:700]\n",
        "y_test = y_list[700:]\n",
        "'''\n",
        "y_train = y.iloc[:700]\n",
        "y_test = y.iloc[700:]"
      ],
      "metadata": {
        "id": "rxXBv5OUWrou"
      },
      "execution_count": 46,
      "outputs": []
    },
    {
      "cell_type": "markdown",
      "source": [
        "## Sigmoid Activation"
      ],
      "metadata": {
        "id": "xsv1X59uIFdG"
      }
    },
    {
      "cell_type": "code",
      "source": [
        "def sigmoid(input):    \n",
        "    output = 1 / (1 + np.exp(-input))\n",
        "    return output"
      ],
      "metadata": {
        "id": "NF7Wy_bZeZLy"
      },
      "execution_count": 47,
      "outputs": []
    },
    {
      "cell_type": "markdown",
      "source": [
        "## ReLU Activation"
      ],
      "metadata": {
        "id": "nTa4XOjPIIuJ"
      }
    },
    {
      "cell_type": "code",
      "source": [
        "def ReLU(input):\n",
        "  data = [max(0,value) for value in input]\n",
        "  return np.array(data, dtype=float) "
      ],
      "metadata": {
        "id": "_VIogvC85VGu"
      },
      "execution_count": 48,
      "outputs": []
    },
    {
      "cell_type": "markdown",
      "source": [
        "## Optimization"
      ],
      "metadata": {
        "id": "KJ8i9jiiIMgY"
      }
    },
    {
      "cell_type": "code",
      "source": [
        "#optimization function\n",
        "def optimize(x, y,learning_rate,iterations,parameters, activation): \n",
        "    size = x.shape[0]\n",
        "    weight = parameters[\"weight\"] \n",
        "    bias = parameters[\"bias\"]\n",
        "    for i in range(iterations): \n",
        "      if activation == \"sigmoid\":\n",
        "        sigma = sigmoid(np.dot(x, weight) + bias)\n",
        "      elif activation == \"relu\":\n",
        "        sigma = ReLU(np.dot(x, weight) + bias)\n",
        "      loss = -1/size * np.sum(y * np.log(sigma)) + (1 - y) * np.log(1-sigma)\n",
        "      dW = 1/size * np.dot(x.T, (sigma - y))\n",
        "      db = 1/size * np.sum(sigma - y)\n",
        "      weight -= learning_rate * dW\n",
        "      bias -= learning_rate * db \n",
        "    \n",
        "    parameters[\"weight\"] = weight\n",
        "    parameters[\"bias\"] = bias\n",
        "    parameters[\"activation\"] = activation\n",
        "    return parameters"
      ],
      "metadata": {
        "id": "ID4lBScWebCD"
      },
      "execution_count": 49,
      "outputs": []
    },
    {
      "cell_type": "code",
      "source": [
        "init_parameters = {} \n",
        "init_parameters[\"weight\"] = np.random.normal( size=x.shape[1]) #np.zeros(x.shape[1])\n",
        "init_parameters[\"bias\"] = 0"
      ],
      "metadata": {
        "id": "d1KDOxUcea_c"
      },
      "execution_count": 50,
      "outputs": []
    },
    {
      "cell_type": "code",
      "source": [
        "def train(x, y, learning_rate,iterations,activation):\n",
        "    parameters_out = optimize(x, y, learning_rate, iterations ,init_parameters, activation)\n",
        "    return parameters_out"
      ],
      "metadata": {
        "id": "spA2kq7Wk21g"
      },
      "execution_count": 51,
      "outputs": []
    },
    {
      "cell_type": "code",
      "source": [
        "parameters_out = train(x_train, y_train, learning_rate = 0.001, iterations = 200, activation = 'sigmoid')"
      ],
      "metadata": {
        "colab": {
          "base_uri": "https://localhost:8080/"
        },
        "id": "LTY2ztBOk2Bk",
        "outputId": "eb28a47a-9932-42b1-8a71-1d78654a9efe"
      },
      "execution_count": 52,
      "outputs": [
        {
          "output_type": "stream",
          "name": "stderr",
          "text": [
            "/usr/local/lib/python3.7/dist-packages/ipykernel_launcher.py:11: RuntimeWarning: divide by zero encountered in log\n",
            "  # This is added back by InteractiveShellApp.init_path()\n"
          ]
        }
      ]
    },
    {
      "cell_type": "code",
      "source": [
        "parameters_out"
      ],
      "metadata": {
        "colab": {
          "base_uri": "https://localhost:8080/"
        },
        "id": "t3cmsCv4lJlU",
        "outputId": "44a168a8-0db0-4c04-aa90-538c3ccc1905"
      },
      "execution_count": 53,
      "outputs": [
        {
          "output_type": "execute_result",
          "data": {
            "text/plain": [
              "{'activation': 'sigmoid',\n",
              " 'bias': -0.016679426290196614,\n",
              " 'weight': array([ 0.02094779, -0.11745883,  0.01734338,  0.0081973 ,  0.19856327,\n",
              "        -0.42335198])}"
            ]
          },
          "metadata": {},
          "execution_count": 53
        }
      ]
    },
    {
      "cell_type": "markdown",
      "source": [
        "### Testing \n"
      ],
      "metadata": {
        "id": "jQUA6ItRa-cd"
      }
    },
    {
      "cell_type": "code",
      "source": [
        "#Predictions\n",
        "output_values = np.dot(x_test, parameters_out['weight'])+parameters_out['bias']\n",
        "if parameters_out['activation'] == \"sigmoid\":\n",
        "  predictions = sigmoid(output_values) >= 0.5\n",
        "elif parameters_out['activation'] == \"relu\":\n",
        "  predictions = ReLU(output_values) >= 0.5\n",
        "predictions"
      ],
      "metadata": {
        "colab": {
          "base_uri": "https://localhost:8080/"
        },
        "id": "xA5Omaj3k1tV",
        "outputId": "5c86f7fc-ee17-44e5-f4b3-a361d7c964b8"
      },
      "execution_count": 54,
      "outputs": [
        {
          "output_type": "execute_result",
          "data": {
            "text/plain": [
              "array([ True,  True,  True,  True,  True, False,  True,  True,  True,\n",
              "        True,  True,  True,  True,  True, False,  True,  True,  True,\n",
              "        True,  True, False,  True,  True,  True,  True,  True,  True,\n",
              "       False, False,  True,  True, False,  True,  True,  True,  True,\n",
              "       False,  True,  True,  True,  True,  True,  True,  True,  True,\n",
              "        True, False,  True,  True,  True, False,  True,  True,  True,\n",
              "        True,  True,  True,  True, False,  True, False,  True,  True,\n",
              "        True, False,  True,  True, False])"
            ]
          },
          "metadata": {},
          "execution_count": 54
        }
      ]
    },
    {
      "cell_type": "code",
      "source": [
        "pred=[]\n",
        "for i in predictions:\n",
        "  #print(i)\n",
        "  if str(i) == 'False':\n",
        "    pred.append(0)\n",
        "  else:\n",
        "    pred.append(1)\n"
      ],
      "metadata": {
        "id": "qYbLLRf6ntdc"
      },
      "execution_count": 55,
      "outputs": []
    },
    {
      "cell_type": "code",
      "source": [
        "y_true = y_test\n",
        "y_pred = pred"
      ],
      "metadata": {
        "id": "o66hQmZ5lp-a"
      },
      "execution_count": 56,
      "outputs": []
    },
    {
      "cell_type": "markdown",
      "source": [
        "## Accuracy"
      ],
      "metadata": {
        "id": "TsQzyOCfWA9c"
      }
    },
    {
      "cell_type": "code",
      "source": [
        "#Accuracy\n",
        "import numpy as np\n",
        "def accuracy_score(y_true, y_pred):\n",
        "        acc = np.sum(np.equal(y_true, y_pred)) / len(y_true)\n",
        "        return acc\n",
        "accuracy_score(y_true,y_pred)"
      ],
      "metadata": {
        "id": "lNrCHQpylp5r",
        "colab": {
          "base_uri": "https://localhost:8080/"
        },
        "outputId": "1205afa1-e628-4d97-9dc8-cdc81a058af9"
      },
      "execution_count": 57,
      "outputs": [
        {
          "output_type": "execute_result",
          "data": {
            "text/plain": [
              "0.5"
            ]
          },
          "metadata": {},
          "execution_count": 57
        }
      ]
    },
    {
      "cell_type": "markdown",
      "source": [
        "## F1 score"
      ],
      "metadata": {
        "id": "ggb_d77HVazu"
      }
    },
    {
      "cell_type": "code",
      "source": [
        "y_list = df['Outcome'].tolist()\n",
        "y_train = y_list[:700]\n",
        "y_test = y_list[700:]"
      ],
      "metadata": {
        "id": "6nvfBVitCFqg"
      },
      "execution_count": 58,
      "outputs": []
    },
    {
      "cell_type": "code",
      "source": [
        "def F1_score(pred,original): #pass predicted and original labels to this function\n",
        "    #matrix=np.zeros((2,2)) # form an empty matric of 2x2\n",
        "    tp,tn,fp,fn= 0,0,0,0\n",
        "    for i in range(0,len(pred)): #the confusion matrix is for 2 classes: 1,0\n",
        "        #1=positive, 0=negative\n",
        "        if int(pred[i])==1 and int(original[i])==1: \n",
        "            tp=tp+1\n",
        "        elif int(pred[i])== 1 and int(original[i])==0:\n",
        "            fp=fp+1\n",
        "        elif int(pred[i])==0 and int(original[i])==1:\n",
        "            fn=fn+1\n",
        "        elif int(pred[i])==0 and int(original[i])==0:\n",
        "            tn=tn+1\n",
        "    precision=tp/(tp+fn)\n",
        "    #print(\"Precision:\",precision)\n",
        "    recall=tp/(tp+fp)\n",
        "    #print(\"Recall:\",recall)\n",
        "    f1=2*(precision*recall)/(precision+recall)\n",
        "    print(\"F1 score:\")\n",
        "\n",
        "    #the above code adds up the frequencies of the tps,tns,fps,fns and a matrix is formed\n",
        "    return f1\n",
        "\n",
        "F1_score(y_pred,y_test)"
      ],
      "metadata": {
        "id": "eTZrUntO5RJ9",
        "colab": {
          "base_uri": "https://localhost:8080/"
        },
        "outputId": "b3ef7747-91f9-4d47-af80-51357833a2a4"
      },
      "execution_count": 59,
      "outputs": [
        {
          "output_type": "stream",
          "name": "stdout",
          "text": [
            "F1 score:\n"
          ]
        },
        {
          "output_type": "execute_result",
          "data": {
            "text/plain": [
              "0.5853658536585366"
            ]
          },
          "metadata": {},
          "execution_count": 59
        }
      ]
    },
    {
      "cell_type": "markdown",
      "source": [
        "## L1 Regularization"
      ],
      "metadata": {
        "id": "VoJkD65SmpbQ"
      }
    },
    {
      "cell_type": "code",
      "source": [
        "l1_penality = 50\n",
        "lam = 0.01\n",
        "def optimizeL1(x, y,learning_rate,iterations,parameters, activation): \n",
        "    size = x.shape[0]\n",
        "    weight = parameters[\"weight\"] \n",
        "    bias = parameters[\"bias\"]\n",
        "    for i in range(iterations): \n",
        "      if activation == \"sigmoid\":\n",
        "        sigma = sigmoid(np.dot(x, weight) + bias)\n",
        "      elif activation == \"relu\":\n",
        "        sigma = ReLU(np.dot(x, weight) + bias)\n",
        "        \n",
        "\n",
        "      #L1 \n",
        "    \n",
        "      X=x\n",
        "      m = X.shape[0]\n",
        "      w=weight\n",
        "      X=X\n",
        "      Y=y\n",
        "      b=bias\n",
        "      #print(m)\n",
        "      #Prediction\n",
        "      final_result = sigmoid(np.dot(w,X.T)+b)\n",
        "      #print(X.shape)\n",
        "      Y_T = np.array(Y).T\n",
        "      #print(final_result.shape)\n",
        "      cost = (-1/m)*(np.sum((Y_T*np.log(final_result)) + ((1-Y_T)*(np.log(1-final_result)))))  + (lam * (np.sum(w)))\n",
        "\n",
        "      #Gradient calculation\n",
        "      dw = (1/m)*(np.dot(X.T, (final_result-np.array(Y).T).T)) + lam\n",
        "      db = (1/m)*(np.sum(final_result-np.array(Y).T))\n",
        "      \n",
        "      grads = {\"dw\": dw, \"db\": db}\n",
        "      dw = grads[\"dw\"]\n",
        "      db = grads[\"db\"]\n",
        "\n",
        "      weight -= learning_rate * dw\n",
        "      bias -= learning_rate * db \n",
        "    \n",
        "    parameters[\"weight\"] = weight\n",
        "    parameters[\"bias\"] = bias\n",
        "    parameters[\"activation\"] = activation\n",
        "    return parameters"
      ],
      "metadata": {
        "id": "bjx_4RBn3nCk"
      },
      "execution_count": 60,
      "outputs": []
    },
    {
      "cell_type": "code",
      "source": [
        "def trainl1(x, y, learning_rate,iterations,activation):\n",
        "    parameters_out = optimizeL1(x, y, learning_rate, iterations ,init_parameters, activation)\n",
        "    return parameters_out"
      ],
      "metadata": {
        "id": "rI11Ru4lS9-I"
      },
      "execution_count": 61,
      "outputs": []
    },
    {
      "cell_type": "code",
      "source": [
        "#parameters_out = train(x_train, y_train, learning_rate = 0.001, iterations = 200, activation = 'sigmoid')\n",
        "init_parameters = {} \n",
        "init_parameters[\"weight\"] = np.random.normal( size=x.shape[1]) #np.zeros(x.shape[1])\n",
        "init_parameters[\"bias\"] = 0\n",
        "\n",
        "import numpy\n",
        "parameters_out_l1 = trainl1(numpy.array(x_train), numpy.array(y_train), learning_rate = 0.001, iterations = 200, activation = 'sigmoid')"
      ],
      "metadata": {
        "colab": {
          "base_uri": "https://localhost:8080/"
        },
        "id": "xNRkZLqr3mxm",
        "outputId": "309f377a-60ce-4fa9-f892-fad604a74111"
      },
      "execution_count": 73,
      "outputs": [
        {
          "output_type": "stream",
          "name": "stderr",
          "text": [
            "/usr/local/lib/python3.7/dist-packages/ipykernel_launcher.py:28: RuntimeWarning: divide by zero encountered in log\n",
            "/usr/local/lib/python3.7/dist-packages/ipykernel_launcher.py:28: RuntimeWarning: invalid value encountered in multiply\n"
          ]
        }
      ]
    },
    {
      "cell_type": "code",
      "source": [
        "parameters_out_l1"
      ],
      "metadata": {
        "colab": {
          "base_uri": "https://localhost:8080/"
        },
        "id": "pufuMr3dUfPK",
        "outputId": "6b359d3a-afcc-4cb2-a486-c6b22af55033"
      },
      "execution_count": 74,
      "outputs": [
        {
          "output_type": "execute_result",
          "data": {
            "text/plain": [
              "{'activation': 'sigmoid',\n",
              " 'bias': -0.007102791293346055,\n",
              " 'weight': array([ 0.80343308, -0.8636775 ,  0.0259146 , -2.79137118,  1.21686059,\n",
              "        -1.36155568])}"
            ]
          },
          "metadata": {},
          "execution_count": 74
        }
      ]
    },
    {
      "cell_type": "code",
      "source": [
        "#Predictions\n",
        "output_values = np.dot(x_test, parameters_out_l1['weight'])+parameters_out_l1['bias']\n",
        "if parameters_out_l1['activation'] == \"sigmoid\":\n",
        "  predictions_l1 = sigmoid(output_values) >= 0.5\n",
        "elif parameters_out_l1['activation'] == \"relu\":\n",
        "  predictions_l1 = ReLU(output_values) >= 0.5\n",
        "#predictions\n",
        "\n",
        "pred_l1=[]\n",
        "for i in predictions_l1:\n",
        "  #print(i)\n",
        "  if str(i) == 'False':\n",
        "    pred_l1.append(0)\n",
        "  else:\n",
        "    pred_l1.append(1)\n",
        "\n",
        "#Accuracy\n",
        "import numpy as np\n",
        "def accuracy_score(y_true, y_pred):\n",
        "        acc = np.sum(np.equal(y_true, y_pred)) / len(y_true)\n",
        "        return acc\n",
        "accuracy_score(y_true,pred_l1)\n"
      ],
      "metadata": {
        "colab": {
          "base_uri": "https://localhost:8080/"
        },
        "id": "TXc_L73hO3gY",
        "outputId": "9871a11f-bd6e-4589-c62a-60027bc49805"
      },
      "execution_count": 80,
      "outputs": [
        {
          "output_type": "execute_result",
          "data": {
            "text/plain": [
              "0.6764705882352942"
            ]
          },
          "metadata": {},
          "execution_count": 80
        }
      ]
    },
    {
      "cell_type": "markdown",
      "source": [
        "## L2 Regularization"
      ],
      "metadata": {
        "id": "0SG9SrJp-y1i"
      }
    },
    {
      "cell_type": "code",
      "source": [
        "l2_penality = 40\n",
        "def optimizeL2(x, y,learning_rate,iterations,parameters, activation): \n",
        "    size = x.shape[0]\n",
        "    weight = parameters[\"weight\"] \n",
        "    bias = parameters[\"bias\"]\n",
        "    for i in range(iterations): \n",
        "      if activation == \"sigmoid\":\n",
        "        sigma = sigmoid(np.dot(x, weight) + bias)\n",
        "      elif activation == \"relu\":\n",
        "        sigma = ReLU(np.dot(x, weight) + bias)\n",
        "        \n",
        "\n",
        "      #L2\n",
        "      X=x\n",
        "      Y=y\n",
        "      m = X.shape[0]\n",
        "      w=weight\n",
        "      b=bias\n",
        "    \n",
        "    #Prediction\n",
        "      final_result = sigmoid(np.dot(w,X.T)+b)\n",
        "      Y_T = Y.T\n",
        "      cost = (-1/m)*(np.sum((Y_T*np.log(final_result)) + ((1-Y_T)*(np.log(1-final_result)))))  + (lam * (np.sum(np.square(w))))\n",
        "\n",
        "    #Gradient calculation\n",
        "      dw = (1/m)*(np.dot(X.T, (final_result-Y.T).T)) + lam * w\n",
        "      db = (1/m)*(np.sum(final_result-Y.T))\n",
        "    \n",
        "      grads = {\"dw\": dw, \"db\": db}\n",
        "      dw = grads[\"dw\"]\n",
        "      db = grads[\"db\"]\n",
        "\n",
        "      weight -= learning_rate * dw\n",
        "      bias -= learning_rate * db \n",
        "    \n",
        "    parameters[\"weight\"] = weight\n",
        "    parameters[\"bias\"] = bias\n",
        "    parameters[\"activation\"] = activation\n",
        "    return parameters"
      ],
      "metadata": {
        "id": "KMFmmKM_4Pog"
      },
      "execution_count": 65,
      "outputs": []
    },
    {
      "cell_type": "code",
      "source": [
        "def trainl2(x, y, learning_rate,iterations,activation):\n",
        "    parameters_out_l2 = optimizeL2(x, y, learning_rate, iterations ,init_parameters, activation)\n",
        "    return parameters_out_l2"
      ],
      "metadata": {
        "id": "W_qZ0kp2TDWw"
      },
      "execution_count": 66,
      "outputs": []
    },
    {
      "cell_type": "code",
      "source": [
        "init_parameters = {} \n",
        "init_parameters[\"weight\"] = np.random.normal(size=x.shape[1]) #np.zeros(x.shape[1])\n",
        "init_parameters[\"bias\"] = 0\n",
        "\n",
        "import numpy\n",
        "parameters_out_l2 = trainl2(numpy.array(x_train), numpy.array(y_train), learning_rate = 0.001, iterations = 200, activation = 'relu')"
      ],
      "metadata": {
        "colab": {
          "base_uri": "https://localhost:8080/"
        },
        "id": "1Gb-1yhn-1Zu",
        "outputId": "038ae4f6-c3ed-4673-bee5-708ebf68ebce"
      },
      "execution_count": 78,
      "outputs": [
        {
          "output_type": "stream",
          "name": "stderr",
          "text": [
            "/usr/local/lib/python3.7/dist-packages/ipykernel_launcher.py:2: RuntimeWarning: overflow encountered in exp\n",
            "  \n",
            "/usr/local/lib/python3.7/dist-packages/ipykernel_launcher.py:23: RuntimeWarning: divide by zero encountered in log\n",
            "/usr/local/lib/python3.7/dist-packages/ipykernel_launcher.py:23: RuntimeWarning: invalid value encountered in multiply\n"
          ]
        }
      ]
    },
    {
      "cell_type": "code",
      "source": [
        "parameters_out_l2"
      ],
      "metadata": {
        "colab": {
          "base_uri": "https://localhost:8080/"
        },
        "id": "5hiqFFgfVRVO",
        "outputId": "c084ebbb-2dad-47d9-bd6f-b1135c4dcd93"
      },
      "execution_count": 68,
      "outputs": [
        {
          "output_type": "execute_result",
          "data": {
            "text/plain": [
              "{'activation': 'relu',\n",
              " 'bias': -0.017239969034310566,\n",
              " 'weight': array([ 0.06676587, -0.02407664, -0.00934541, -0.438724  ,  0.03362963,\n",
              "         0.35033535])}"
            ]
          },
          "metadata": {},
          "execution_count": 68
        }
      ]
    },
    {
      "cell_type": "code",
      "source": [
        "#Predictions\n",
        "output_values = np.dot(x_test, parameters_out_l2['weight'])+parameters_out_l2['bias']\n",
        "if parameters_out_l2['activation'] == \"sigmoid\":\n",
        "  predictions_l2 = sigmoid(output_values) >= 0.5\n",
        "elif parameters_out_l2['activation'] == \"relu\":\n",
        "  predictions_l2 = ReLU(output_values) >= 0.5\n",
        "#predictions\n",
        "\n",
        "pred_l2=[]\n",
        "for i in predictions_l2:\n",
        "  #print(i)\n",
        "  if str(i) == 'False':\n",
        "    pred_l2.append(0)\n",
        "  else:\n",
        "    pred_l2.append(1)\n",
        "\n",
        "accuracy_score(y_true,pred_l2)\n"
      ],
      "metadata": {
        "colab": {
          "base_uri": "https://localhost:8080/"
        },
        "id": "n7ye0VQMPO_G",
        "outputId": "a3b93aaf-819f-4042-ca94-b3de2b07baae"
      },
      "execution_count": 81,
      "outputs": [
        {
          "output_type": "execute_result",
          "data": {
            "text/plain": [
              "0.45588235294117646"
            ]
          },
          "metadata": {},
          "execution_count": 81
        }
      ]
    }
  ]
}